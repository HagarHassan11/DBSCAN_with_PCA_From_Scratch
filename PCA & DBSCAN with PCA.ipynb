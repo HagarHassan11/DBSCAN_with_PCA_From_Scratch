{
 "cells": [
  {
   "cell_type": "code",
   "execution_count": 1,
   "id": "8312edd5",
   "metadata": {},
   "outputs": [],
   "source": [
    "from sklearn.datasets import load_digits\n",
    "from scipy.spatial import distance\n",
    "import numpy as np\n",
    "import pandas as pd\n",
    "import seaborn as sns\n",
    "import matplotlib.pyplot as plt\n",
    "from sklearn.neighbors import NearestNeighbors\n",
    "from sklearn.preprocessing import StandardScaler\n",
    "from sklearn.cluster import DBSCAN\n",
    "from sklearn.datasets import load_digits\n",
    "from sklearn.metrics import adjusted_rand_score, normalized_mutual_info_score\n",
    "from mpl_toolkits.mplot3d import Axes3D"
   ]
  },
  {
   "cell_type": "code",
   "execution_count": 2,
   "id": "06c4cced",
   "metadata": {},
   "outputs": [],
   "source": [
    "digits = load_digits()"
   ]
  },
  {
   "cell_type": "code",
   "execution_count": 3,
   "id": "416ef929",
   "metadata": {},
   "outputs": [],
   "source": [
    "df=pd.DataFrame(data=digits.data, columns=digits.feature_names)"
   ]
  },
  {
   "cell_type": "code",
   "execution_count": 4,
   "id": "d93b3ea9",
   "metadata": {},
   "outputs": [
    {
     "data": {
      "text/html": [
       "<div>\n",
       "<style scoped>\n",
       "    .dataframe tbody tr th:only-of-type {\n",
       "        vertical-align: middle;\n",
       "    }\n",
       "\n",
       "    .dataframe tbody tr th {\n",
       "        vertical-align: top;\n",
       "    }\n",
       "\n",
       "    .dataframe thead th {\n",
       "        text-align: right;\n",
       "    }\n",
       "</style>\n",
       "<table border=\"1\" class=\"dataframe\">\n",
       "  <thead>\n",
       "    <tr style=\"text-align: right;\">\n",
       "      <th></th>\n",
       "      <th>pixel_0_0</th>\n",
       "      <th>pixel_0_1</th>\n",
       "      <th>pixel_0_2</th>\n",
       "      <th>pixel_0_3</th>\n",
       "      <th>pixel_0_4</th>\n",
       "      <th>pixel_0_5</th>\n",
       "      <th>pixel_0_6</th>\n",
       "      <th>pixel_0_7</th>\n",
       "      <th>pixel_1_0</th>\n",
       "      <th>pixel_1_1</th>\n",
       "      <th>...</th>\n",
       "      <th>pixel_6_6</th>\n",
       "      <th>pixel_6_7</th>\n",
       "      <th>pixel_7_0</th>\n",
       "      <th>pixel_7_1</th>\n",
       "      <th>pixel_7_2</th>\n",
       "      <th>pixel_7_3</th>\n",
       "      <th>pixel_7_4</th>\n",
       "      <th>pixel_7_5</th>\n",
       "      <th>pixel_7_6</th>\n",
       "      <th>pixel_7_7</th>\n",
       "    </tr>\n",
       "  </thead>\n",
       "  <tbody>\n",
       "    <tr>\n",
       "      <th>0</th>\n",
       "      <td>0.0</td>\n",
       "      <td>0.0</td>\n",
       "      <td>5.0</td>\n",
       "      <td>13.0</td>\n",
       "      <td>9.0</td>\n",
       "      <td>1.0</td>\n",
       "      <td>0.0</td>\n",
       "      <td>0.0</td>\n",
       "      <td>0.0</td>\n",
       "      <td>0.0</td>\n",
       "      <td>...</td>\n",
       "      <td>0.0</td>\n",
       "      <td>0.0</td>\n",
       "      <td>0.0</td>\n",
       "      <td>0.0</td>\n",
       "      <td>6.0</td>\n",
       "      <td>13.0</td>\n",
       "      <td>10.0</td>\n",
       "      <td>0.0</td>\n",
       "      <td>0.0</td>\n",
       "      <td>0.0</td>\n",
       "    </tr>\n",
       "    <tr>\n",
       "      <th>1</th>\n",
       "      <td>0.0</td>\n",
       "      <td>0.0</td>\n",
       "      <td>0.0</td>\n",
       "      <td>12.0</td>\n",
       "      <td>13.0</td>\n",
       "      <td>5.0</td>\n",
       "      <td>0.0</td>\n",
       "      <td>0.0</td>\n",
       "      <td>0.0</td>\n",
       "      <td>0.0</td>\n",
       "      <td>...</td>\n",
       "      <td>0.0</td>\n",
       "      <td>0.0</td>\n",
       "      <td>0.0</td>\n",
       "      <td>0.0</td>\n",
       "      <td>0.0</td>\n",
       "      <td>11.0</td>\n",
       "      <td>16.0</td>\n",
       "      <td>10.0</td>\n",
       "      <td>0.0</td>\n",
       "      <td>0.0</td>\n",
       "    </tr>\n",
       "    <tr>\n",
       "      <th>2</th>\n",
       "      <td>0.0</td>\n",
       "      <td>0.0</td>\n",
       "      <td>0.0</td>\n",
       "      <td>4.0</td>\n",
       "      <td>15.0</td>\n",
       "      <td>12.0</td>\n",
       "      <td>0.0</td>\n",
       "      <td>0.0</td>\n",
       "      <td>0.0</td>\n",
       "      <td>0.0</td>\n",
       "      <td>...</td>\n",
       "      <td>5.0</td>\n",
       "      <td>0.0</td>\n",
       "      <td>0.0</td>\n",
       "      <td>0.0</td>\n",
       "      <td>0.0</td>\n",
       "      <td>3.0</td>\n",
       "      <td>11.0</td>\n",
       "      <td>16.0</td>\n",
       "      <td>9.0</td>\n",
       "      <td>0.0</td>\n",
       "    </tr>\n",
       "    <tr>\n",
       "      <th>3</th>\n",
       "      <td>0.0</td>\n",
       "      <td>0.0</td>\n",
       "      <td>7.0</td>\n",
       "      <td>15.0</td>\n",
       "      <td>13.0</td>\n",
       "      <td>1.0</td>\n",
       "      <td>0.0</td>\n",
       "      <td>0.0</td>\n",
       "      <td>0.0</td>\n",
       "      <td>8.0</td>\n",
       "      <td>...</td>\n",
       "      <td>9.0</td>\n",
       "      <td>0.0</td>\n",
       "      <td>0.0</td>\n",
       "      <td>0.0</td>\n",
       "      <td>7.0</td>\n",
       "      <td>13.0</td>\n",
       "      <td>13.0</td>\n",
       "      <td>9.0</td>\n",
       "      <td>0.0</td>\n",
       "      <td>0.0</td>\n",
       "    </tr>\n",
       "    <tr>\n",
       "      <th>4</th>\n",
       "      <td>0.0</td>\n",
       "      <td>0.0</td>\n",
       "      <td>0.0</td>\n",
       "      <td>1.0</td>\n",
       "      <td>11.0</td>\n",
       "      <td>0.0</td>\n",
       "      <td>0.0</td>\n",
       "      <td>0.0</td>\n",
       "      <td>0.0</td>\n",
       "      <td>0.0</td>\n",
       "      <td>...</td>\n",
       "      <td>0.0</td>\n",
       "      <td>0.0</td>\n",
       "      <td>0.0</td>\n",
       "      <td>0.0</td>\n",
       "      <td>0.0</td>\n",
       "      <td>2.0</td>\n",
       "      <td>16.0</td>\n",
       "      <td>4.0</td>\n",
       "      <td>0.0</td>\n",
       "      <td>0.0</td>\n",
       "    </tr>\n",
       "    <tr>\n",
       "      <th>...</th>\n",
       "      <td>...</td>\n",
       "      <td>...</td>\n",
       "      <td>...</td>\n",
       "      <td>...</td>\n",
       "      <td>...</td>\n",
       "      <td>...</td>\n",
       "      <td>...</td>\n",
       "      <td>...</td>\n",
       "      <td>...</td>\n",
       "      <td>...</td>\n",
       "      <td>...</td>\n",
       "      <td>...</td>\n",
       "      <td>...</td>\n",
       "      <td>...</td>\n",
       "      <td>...</td>\n",
       "      <td>...</td>\n",
       "      <td>...</td>\n",
       "      <td>...</td>\n",
       "      <td>...</td>\n",
       "      <td>...</td>\n",
       "      <td>...</td>\n",
       "    </tr>\n",
       "    <tr>\n",
       "      <th>1792</th>\n",
       "      <td>0.0</td>\n",
       "      <td>0.0</td>\n",
       "      <td>4.0</td>\n",
       "      <td>10.0</td>\n",
       "      <td>13.0</td>\n",
       "      <td>6.0</td>\n",
       "      <td>0.0</td>\n",
       "      <td>0.0</td>\n",
       "      <td>0.0</td>\n",
       "      <td>1.0</td>\n",
       "      <td>...</td>\n",
       "      <td>4.0</td>\n",
       "      <td>0.0</td>\n",
       "      <td>0.0</td>\n",
       "      <td>0.0</td>\n",
       "      <td>2.0</td>\n",
       "      <td>14.0</td>\n",
       "      <td>15.0</td>\n",
       "      <td>9.0</td>\n",
       "      <td>0.0</td>\n",
       "      <td>0.0</td>\n",
       "    </tr>\n",
       "    <tr>\n",
       "      <th>1793</th>\n",
       "      <td>0.0</td>\n",
       "      <td>0.0</td>\n",
       "      <td>6.0</td>\n",
       "      <td>16.0</td>\n",
       "      <td>13.0</td>\n",
       "      <td>11.0</td>\n",
       "      <td>1.0</td>\n",
       "      <td>0.0</td>\n",
       "      <td>0.0</td>\n",
       "      <td>0.0</td>\n",
       "      <td>...</td>\n",
       "      <td>1.0</td>\n",
       "      <td>0.0</td>\n",
       "      <td>0.0</td>\n",
       "      <td>0.0</td>\n",
       "      <td>6.0</td>\n",
       "      <td>16.0</td>\n",
       "      <td>14.0</td>\n",
       "      <td>6.0</td>\n",
       "      <td>0.0</td>\n",
       "      <td>0.0</td>\n",
       "    </tr>\n",
       "    <tr>\n",
       "      <th>1794</th>\n",
       "      <td>0.0</td>\n",
       "      <td>0.0</td>\n",
       "      <td>1.0</td>\n",
       "      <td>11.0</td>\n",
       "      <td>15.0</td>\n",
       "      <td>1.0</td>\n",
       "      <td>0.0</td>\n",
       "      <td>0.0</td>\n",
       "      <td>0.0</td>\n",
       "      <td>0.0</td>\n",
       "      <td>...</td>\n",
       "      <td>0.0</td>\n",
       "      <td>0.0</td>\n",
       "      <td>0.0</td>\n",
       "      <td>0.0</td>\n",
       "      <td>2.0</td>\n",
       "      <td>9.0</td>\n",
       "      <td>13.0</td>\n",
       "      <td>6.0</td>\n",
       "      <td>0.0</td>\n",
       "      <td>0.0</td>\n",
       "    </tr>\n",
       "    <tr>\n",
       "      <th>1795</th>\n",
       "      <td>0.0</td>\n",
       "      <td>0.0</td>\n",
       "      <td>2.0</td>\n",
       "      <td>10.0</td>\n",
       "      <td>7.0</td>\n",
       "      <td>0.0</td>\n",
       "      <td>0.0</td>\n",
       "      <td>0.0</td>\n",
       "      <td>0.0</td>\n",
       "      <td>0.0</td>\n",
       "      <td>...</td>\n",
       "      <td>2.0</td>\n",
       "      <td>0.0</td>\n",
       "      <td>0.0</td>\n",
       "      <td>0.0</td>\n",
       "      <td>5.0</td>\n",
       "      <td>12.0</td>\n",
       "      <td>16.0</td>\n",
       "      <td>12.0</td>\n",
       "      <td>0.0</td>\n",
       "      <td>0.0</td>\n",
       "    </tr>\n",
       "    <tr>\n",
       "      <th>1796</th>\n",
       "      <td>0.0</td>\n",
       "      <td>0.0</td>\n",
       "      <td>10.0</td>\n",
       "      <td>14.0</td>\n",
       "      <td>8.0</td>\n",
       "      <td>1.0</td>\n",
       "      <td>0.0</td>\n",
       "      <td>0.0</td>\n",
       "      <td>0.0</td>\n",
       "      <td>2.0</td>\n",
       "      <td>...</td>\n",
       "      <td>8.0</td>\n",
       "      <td>0.0</td>\n",
       "      <td>0.0</td>\n",
       "      <td>1.0</td>\n",
       "      <td>8.0</td>\n",
       "      <td>12.0</td>\n",
       "      <td>14.0</td>\n",
       "      <td>12.0</td>\n",
       "      <td>1.0</td>\n",
       "      <td>0.0</td>\n",
       "    </tr>\n",
       "  </tbody>\n",
       "</table>\n",
       "<p>1797 rows × 64 columns</p>\n",
       "</div>"
      ],
      "text/plain": [
       "      pixel_0_0  pixel_0_1  pixel_0_2  pixel_0_3  pixel_0_4  pixel_0_5  \\\n",
       "0           0.0        0.0        5.0       13.0        9.0        1.0   \n",
       "1           0.0        0.0        0.0       12.0       13.0        5.0   \n",
       "2           0.0        0.0        0.0        4.0       15.0       12.0   \n",
       "3           0.0        0.0        7.0       15.0       13.0        1.0   \n",
       "4           0.0        0.0        0.0        1.0       11.0        0.0   \n",
       "...         ...        ...        ...        ...        ...        ...   \n",
       "1792        0.0        0.0        4.0       10.0       13.0        6.0   \n",
       "1793        0.0        0.0        6.0       16.0       13.0       11.0   \n",
       "1794        0.0        0.0        1.0       11.0       15.0        1.0   \n",
       "1795        0.0        0.0        2.0       10.0        7.0        0.0   \n",
       "1796        0.0        0.0       10.0       14.0        8.0        1.0   \n",
       "\n",
       "      pixel_0_6  pixel_0_7  pixel_1_0  pixel_1_1  ...  pixel_6_6  pixel_6_7  \\\n",
       "0           0.0        0.0        0.0        0.0  ...        0.0        0.0   \n",
       "1           0.0        0.0        0.0        0.0  ...        0.0        0.0   \n",
       "2           0.0        0.0        0.0        0.0  ...        5.0        0.0   \n",
       "3           0.0        0.0        0.0        8.0  ...        9.0        0.0   \n",
       "4           0.0        0.0        0.0        0.0  ...        0.0        0.0   \n",
       "...         ...        ...        ...        ...  ...        ...        ...   \n",
       "1792        0.0        0.0        0.0        1.0  ...        4.0        0.0   \n",
       "1793        1.0        0.0        0.0        0.0  ...        1.0        0.0   \n",
       "1794        0.0        0.0        0.0        0.0  ...        0.0        0.0   \n",
       "1795        0.0        0.0        0.0        0.0  ...        2.0        0.0   \n",
       "1796        0.0        0.0        0.0        2.0  ...        8.0        0.0   \n",
       "\n",
       "      pixel_7_0  pixel_7_1  pixel_7_2  pixel_7_3  pixel_7_4  pixel_7_5  \\\n",
       "0           0.0        0.0        6.0       13.0       10.0        0.0   \n",
       "1           0.0        0.0        0.0       11.0       16.0       10.0   \n",
       "2           0.0        0.0        0.0        3.0       11.0       16.0   \n",
       "3           0.0        0.0        7.0       13.0       13.0        9.0   \n",
       "4           0.0        0.0        0.0        2.0       16.0        4.0   \n",
       "...         ...        ...        ...        ...        ...        ...   \n",
       "1792        0.0        0.0        2.0       14.0       15.0        9.0   \n",
       "1793        0.0        0.0        6.0       16.0       14.0        6.0   \n",
       "1794        0.0        0.0        2.0        9.0       13.0        6.0   \n",
       "1795        0.0        0.0        5.0       12.0       16.0       12.0   \n",
       "1796        0.0        1.0        8.0       12.0       14.0       12.0   \n",
       "\n",
       "      pixel_7_6  pixel_7_7  \n",
       "0           0.0        0.0  \n",
       "1           0.0        0.0  \n",
       "2           9.0        0.0  \n",
       "3           0.0        0.0  \n",
       "4           0.0        0.0  \n",
       "...         ...        ...  \n",
       "1792        0.0        0.0  \n",
       "1793        0.0        0.0  \n",
       "1794        0.0        0.0  \n",
       "1795        0.0        0.0  \n",
       "1796        1.0        0.0  \n",
       "\n",
       "[1797 rows x 64 columns]"
      ]
     },
     "execution_count": 4,
     "metadata": {},
     "output_type": "execute_result"
    }
   ],
   "source": [
    "df"
   ]
  },
  {
   "cell_type": "markdown",
   "id": "ef57c929",
   "metadata": {},
   "source": [
    "# PCA From Scratch"
   ]
  },
  {
   "cell_type": "code",
   "execution_count": 5,
   "id": "b1c47f56",
   "metadata": {},
   "outputs": [],
   "source": [
    "def Covariance_matrix(X):\n",
    "    n = X.shape[0] \n",
    "    X_std = X - np.mean(X.T, axis=1) \n",
    "    cov_mat = np.dot(X_std.T, X_std) / (n)\n",
    "    return cov_mat"
   ]
  },
  {
   "cell_type": "code",
   "execution_count": 6,
   "id": "f63b17e7",
   "metadata": {},
   "outputs": [],
   "source": [
    "cov_matrix=Covariance_matrix(df)"
   ]
  },
  {
   "cell_type": "code",
   "execution_count": 7,
   "id": "deb02e39",
   "metadata": {},
   "outputs": [
    {
     "data": {
      "text/plain": [
       "array([[ 0.        ,  0.        ,  0.        , ...,  0.        ,\n",
       "         0.        ,  0.        ],\n",
       "       [ 0.        ,  0.82253951,  2.39965886, ..., -0.15980632,\n",
       "         0.09845941, -0.0740206 ],\n",
       "       [ 0.        ,  2.39965886, 22.59579234, ..., -1.15479735,\n",
       "         1.41124994,  0.72947431],\n",
       "       ...,\n",
       "       [ 0.        , -0.15980632, -1.15479735, ..., 34.79797313,\n",
       "        15.63983626,  2.87398245],\n",
       "       [ 0.        ,  0.09845941,  1.41124994, ..., 15.63983626,\n",
       "        16.72327062,  4.71815884],\n",
       "       [ 0.        , -0.0740206 ,  0.72947431, ...,  2.87398245,\n",
       "         4.71815884,  3.45812736]])"
      ]
     },
     "execution_count": 7,
     "metadata": {},
     "output_type": "execute_result"
    }
   ],
   "source": [
    "cov_matrix"
   ]
  },
  {
   "cell_type": "code",
   "execution_count": 8,
   "id": "6aa85a10",
   "metadata": {},
   "outputs": [
    {
     "data": {
      "text/plain": [
       "(64, 64)"
      ]
     },
     "execution_count": 8,
     "metadata": {},
     "output_type": "execute_result"
    }
   ],
   "source": [
    "cov_matrix.shape"
   ]
  },
  {
   "cell_type": "code",
   "execution_count": null,
   "id": "e0f1240a",
   "metadata": {},
   "outputs": [],
   "source": [
    "\"\"\"\n",
    "Power Iteration is based on the principle that, for a given matrix A\n",
    "a repeatedly multiplying a random vector by A\n",
    "tends to yield a vector that approximates an eigenvector associated with the largest eigenvalue of A\n",
    "\n",
    "\"\"\""
   ]
  },
  {
   "cell_type": "code",
   "execution_count": 9,
   "id": "c2ec5c9c",
   "metadata": {},
   "outputs": [],
   "source": [
    "def power_iteration(A, num_iterations):\n",
    "    n = len(A)\n",
    "    eigenvectors = []\n",
    "    eigenvalues = []\n",
    "    \n",
    "    for _ in range(n):\n",
    "        x = np.random.rand(n)\n",
    "        for _ in range(num_iterations):\n",
    "            y = np.dot(A, x)\n",
    "            x = y / np.linalg.norm(y) #numerical stability and avoid overflow or underflow issues\n",
    "        \n",
    "        eigenvalue = np.dot(np.dot(A, x), x) \n",
    "        eigenvalues.append(eigenvalue)\n",
    "        eigenvectors.append(x)\n",
    "    \n",
    "    return eigenvalues, eigenvectors"
   ]
  },
  {
   "cell_type": "code",
   "execution_count": 10,
   "id": "f58a1d51",
   "metadata": {},
   "outputs": [],
   "source": [
    "def PCA(X,n_components):\n",
    "\n",
    "    cov_matrix=Covariance_matrix(X)\n",
    "    eigenvalues,eigenvectors=power_iteration(cov_matrix,100)\n",
    "    eigenvalues=np.array(eigenvalues)\n",
    "    eigenvectors=np.array(eigenvectors)\n",
    "    mean=np.array(np.mean(X.T, axis=1))\n",
    "    shifted_mean = X - mean\n",
    "    indices = np.argsort(eigenvalues)[::-1]\n",
    "    sorted_eigenvalues = eigenvalues[indices]\n",
    "    sorted_eigenvectors = eigenvectors[:, indices]\n",
    "\n",
    "    eigenvectors_subset = sorted_eigenvectors[:, :n_components]\n",
    "\n",
    "    transformed_data  = np.dot(shifted_mean, eigenvectors_subset)\n",
    "    \n",
    "    reconstructed_data=np.dot(transformed_data, eigenvectors_subset.transpose())+mean\n",
    "\n",
    "    return transformed_data,reconstructed_data"
   ]
  },
  {
   "cell_type": "markdown",
   "id": "1097cdc6",
   "metadata": {},
   "source": [
    "# Different  Q matrix"
   ]
  },
  {
   "cell_type": "markdown",
   "id": "a973a207",
   "metadata": {},
   "source": [
    "### num_components= 40"
   ]
  },
  {
   "cell_type": "code",
   "execution_count": 11,
   "id": "e3a3a5bc",
   "metadata": {},
   "outputs": [
    {
     "name": "stdout",
     "output_type": "stream",
     "text": [
      "Original data : (1797, 64)\n",
      "After applying PCA : (1797, 40)\n"
     ]
    }
   ],
   "source": [
    "num_components1=40\n",
    "compressed_data1,reconstructed_data1=PCA(df,num_components1)\n",
    "print(f\"Original data : {df.shape}\")\n",
    "print(f\"After applying PCA : {compressed_data1.shape}\")\n",
    "Reconstruction_error1=np.mean(np.square(df - reconstructed_data1),axis=0)"
   ]
  },
  {
   "cell_type": "markdown",
   "id": "291822ae",
   "metadata": {},
   "source": [
    "### num_components=30"
   ]
  },
  {
   "cell_type": "code",
   "execution_count": 12,
   "id": "f50fcf4b",
   "metadata": {},
   "outputs": [
    {
     "name": "stdout",
     "output_type": "stream",
     "text": [
      "Original data : (1797, 64)\n",
      "After applying PCA : (1797, 30)\n"
     ]
    }
   ],
   "source": [
    "num_components2=30\n",
    "compressed_data2,reconstructed_data2=PCA(df,num_components2)\n",
    "print(f\"Original data : {df.shape}\")\n",
    "print(f\"After applying PCA : {compressed_data2.shape}\")\n",
    "Reconstruction_error2=np.mean(np.square(df - reconstructed_data2),axis=0)"
   ]
  },
  {
   "cell_type": "markdown",
   "id": "0e69c355",
   "metadata": {},
   "source": [
    "### num_components=20"
   ]
  },
  {
   "cell_type": "code",
   "execution_count": 13,
   "id": "b46e43e9",
   "metadata": {},
   "outputs": [
    {
     "name": "stdout",
     "output_type": "stream",
     "text": [
      "Original data: (1797, 64)\n",
      "After applying PCA : (1797, 20)\n"
     ]
    }
   ],
   "source": [
    "num_components3=20\n",
    "compressed_data3,reconstructed_data3=PCA(df,num_components3)\n",
    "print(f\"Original data: {df.shape}\")\n",
    "print(f\"After applying PCA : {compressed_data3.shape}\")\n",
    "Reconstruction_error3=np.mean(np.square(df - reconstructed_data3),axis=0)"
   ]
  },
  {
   "cell_type": "markdown",
   "id": "c57533f1",
   "metadata": {},
   "source": [
    "### num_components=9"
   ]
  },
  {
   "cell_type": "code",
   "execution_count": 14,
   "id": "dca2865b",
   "metadata": {},
   "outputs": [
    {
     "name": "stdout",
     "output_type": "stream",
     "text": [
      "Original data: (1797, 64)\n",
      "After applying PCA : (1797, 9)\n"
     ]
    }
   ],
   "source": [
    "num_components4=9\n",
    "compressed_data4,reconstructed_data4=PCA(df,num_components4)\n",
    "print(f\"Original data: {df.shape}\")\n",
    "print(f\"After applying PCA : {compressed_data4.shape}\")\n",
    "Reconstruction_error4=np.mean(np.square(df - reconstructed_data4),axis=0)"
   ]
  },
  {
   "cell_type": "markdown",
   "id": "bf42bdac",
   "metadata": {},
   "source": [
    "### num_components=3"
   ]
  },
  {
   "cell_type": "code",
   "execution_count": 15,
   "id": "b327fd32",
   "metadata": {},
   "outputs": [
    {
     "name": "stdout",
     "output_type": "stream",
     "text": [
      "Original data: (1797, 64)\n",
      "After applying PCA : (1797, 3)\n"
     ]
    }
   ],
   "source": [
    "num_components5=3\n",
    "compressed_data5,reconstructed_data5=PCA(df,num_components5)\n",
    "print(f\"Original data: {df.shape}\")\n",
    "print(f\"After applying PCA : {compressed_data5.shape}\")\n",
    "Reconstruction_error5=np.mean(np.square(df - reconstructed_data5),axis=0)"
   ]
  },
  {
   "cell_type": "markdown",
   "id": "e21f07fa",
   "metadata": {},
   "source": [
    "## Comparsion of the error with different Q matrix"
   ]
  },
  {
   "cell_type": "code",
   "execution_count": 15,
   "id": "024225dc",
   "metadata": {},
   "outputs": [
    {
     "data": {
      "text/plain": [
       "8.570607644618947"
      ]
     },
     "execution_count": 15,
     "metadata": {},
     "output_type": "execute_result"
    }
   ],
   "source": [
    "mean1=np.mean(Reconstruction_error1)\n",
    "mean1"
   ]
  },
  {
   "cell_type": "code",
   "execution_count": 16,
   "id": "857e1df7",
   "metadata": {},
   "outputs": [
    {
     "data": {
      "text/plain": [
       "10.61793408802367"
      ]
     },
     "execution_count": 16,
     "metadata": {},
     "output_type": "execute_result"
    }
   ],
   "source": [
    "mean2=np.mean(Reconstruction_error2)\n",
    "mean2"
   ]
  },
  {
   "cell_type": "code",
   "execution_count": 17,
   "id": "6cc00fc6",
   "metadata": {},
   "outputs": [
    {
     "data": {
      "text/plain": [
       "13.394588103335817"
      ]
     },
     "execution_count": 17,
     "metadata": {},
     "output_type": "execute_result"
    }
   ],
   "source": [
    "mean3=np.mean(Reconstruction_error3)\n",
    "mean3"
   ]
  },
  {
   "cell_type": "code",
   "execution_count": 18,
   "id": "36771988",
   "metadata": {},
   "outputs": [
    {
     "data": {
      "text/plain": [
       "17.03429151093607"
      ]
     },
     "execution_count": 18,
     "metadata": {},
     "output_type": "execute_result"
    }
   ],
   "source": [
    "mean4=np.mean(Reconstruction_error4)\n",
    "mean4"
   ]
  },
  {
   "cell_type": "code",
   "execution_count": 19,
   "id": "4c375614",
   "metadata": {},
   "outputs": [
    {
     "data": {
      "text/plain": [
       "18.343456220110717"
      ]
     },
     "execution_count": 19,
     "metadata": {},
     "output_type": "execute_result"
    }
   ],
   "source": [
    "mean5=np.mean(Reconstruction_error5)\n",
    "mean5"
   ]
  },
  {
   "cell_type": "markdown",
   "id": "da050995",
   "metadata": {},
   "source": [
    "### Error increase with decreasing the num_components"
   ]
  },
  {
   "cell_type": "code",
   "execution_count": null,
   "id": "c9f6896d",
   "metadata": {},
   "outputs": [],
   "source": [
    "\"\"\"\n",
    "With num_compenents=40 , the average reconstruction error is = 8\n",
    "\n",
    "With num_compenents=30 , the average reconstruction error is = 10\n",
    "\n",
    "With num_compenents=20 , the average reconstruction error is = 13\n",
    "\n",
    "With num_compenents=9 , the average reconstruction error is = 17\n",
    "\n",
    "With num_compenents=3 , the average reconstruction error is = 18\n",
    "\n",
    "\n",
    "\"\"\""
   ]
  },
  {
   "cell_type": "code",
   "execution_count": null,
   "id": "a53605b1",
   "metadata": {},
   "outputs": [],
   "source": [
    "\"\"\"\n",
    "Significant Dimensionality Reduction: Reducing from 64 to 3 features is a \n",
    "drastic reduction in dimensionality. This can be very advantageous in aspects \n",
    "like: simplifying the model, reducing computational costs, and enabling \n",
    "visualization in 3D space. \n",
    "\n",
    "\n",
    "Average Error of 18%: An average error of 18% means that the three \n",
    "principal components retain 82% of the variance in the original dataset. This \n",
    "is a substantial amount of information being captured, considering the level \n",
    "of dimensionality reduction. \n",
    "\n",
    "\n",
    "\n",
    "\"\"\""
   ]
  },
  {
   "cell_type": "code",
   "execution_count": null,
   "id": "71944ebc",
   "metadata": {},
   "outputs": [],
   "source": [
    "\"\"\"\n",
    "The best num_components is equal to 3 as we reduced the number of \n",
    "features from 64 to 3, and the error is acceptable (=18). \n",
    "\"\"\""
   ]
  },
  {
   "cell_type": "markdown",
   "id": "22779990",
   "metadata": {},
   "source": [
    "### DBSCAN ALGORTHIM FROM SCRATCH"
   ]
  },
  {
   "cell_type": "code",
   "execution_count": 16,
   "id": "d27b3a02",
   "metadata": {},
   "outputs": [],
   "source": [
    "class Basic_DBSCAN:\n",
    "\n",
    "    def __init__(self, eps, minPts, metric=distance.euclidean):\n",
    "        self.eps = eps\n",
    "        self.minPts = minPts\n",
    "        self.metric = metric\n",
    "\n",
    "    def fit_predict(self, X):\n",
    "        clusters = [0] * X.shape[0]\n",
    "        self._simple_DBSCAN(X, clusters)\n",
    "        return clusters\n",
    "\n",
    "    def _simple_DBSCAN(self, X, clusters): #clusters is zeros at first\n",
    "        currentPoint = 0\n",
    "        for i in range(X.shape[0]):\n",
    "            if clusters[i] != 0:\n",
    "                continue\n",
    "            neighbors = self._neighborsGen(X, i)\n",
    "            if len(neighbors) < self.minPts:\n",
    "                clusters[i] = -1\n",
    "            else:\n",
    "                currentPoint += 1\n",
    "                self._expand(X, clusters, i, neighbors, currentPoint) #give my neighbors the same cluster of mine\n",
    "        return clusters\n",
    "\n",
    "    def _neighborsGen(self, X, point_index):\n",
    "        neighbors = []\n",
    "        for i in range(X.shape[0]):\n",
    "            if self.metric(X[point_index], X[i]) < self.eps:\n",
    "                neighbors.append(i)  # append the index\n",
    "        return neighbors\n",
    "\n",
    "    def _expand(self, X, clusters, point_index, neighbors, current_cluster_label): #when core point is found\n",
    "        clusters[point_index] = current_cluster_label\n",
    "        i = 0\n",
    "        while i < len(neighbors):\n",
    "            next_point_index = neighbors[i]\n",
    "            if clusters[next_point_index] == -1:\n",
    "                clusters[next_point_index] = current_cluster_label\n",
    "            elif clusters[next_point_index] == 0:\n",
    "                clusters[next_point_index] = current_cluster_label\n",
    "                new_neighbors = self._neighborsGen(X, next_point_index)\n",
    "                if len(new_neighbors) >= self.minPts: #if it is core point take it with its neighbors if not take the point only\n",
    "                    neighbors = neighbors + new_neighbors\n",
    "            i += 1"
   ]
  },
  {
   "cell_type": "markdown",
   "id": "42ac6503",
   "metadata": {},
   "source": [
    "#### To check the performance of our DBSCAN comparing to the built in one"
   ]
  },
  {
   "cell_type": "code",
   "execution_count": 37,
   "id": "3fdf7cd0",
   "metadata": {},
   "outputs": [],
   "source": [
    "def checkEqual(cluster1, cluster2):\n",
    "    return cluster1 == cluster2"
   ]
  },
  {
   "cell_type": "code",
   "execution_count": 38,
   "id": "5cc3577c",
   "metadata": {},
   "outputs": [],
   "source": [
    "df = StandardScaler().fit_transform(df)"
   ]
  },
  {
   "cell_type": "code",
   "execution_count": 39,
   "id": "b0d2c79a",
   "metadata": {},
   "outputs": [],
   "source": [
    "db = Basic_DBSCAN(eps=5.0, minPts=10)\n",
    "clusters = db.fit_predict(df)"
   ]
  },
  {
   "cell_type": "code",
   "execution_count": 40,
   "id": "d689f5ec",
   "metadata": {},
   "outputs": [
    {
     "data": {
      "text/plain": [
       "301"
      ]
     },
     "execution_count": 40,
     "metadata": {},
     "output_type": "execute_result"
    }
   ],
   "source": [
    "#Noise\n",
    "clusters.count(-1)"
   ]
  },
  {
   "cell_type": "code",
   "execution_count": 41,
   "id": "ed48879f",
   "metadata": {},
   "outputs": [
    {
     "data": {
      "text/plain": [
       "1315"
      ]
     },
     "execution_count": 41,
     "metadata": {},
     "output_type": "execute_result"
    }
   ],
   "source": [
    "clusters.count(1)"
   ]
  },
  {
   "cell_type": "code",
   "execution_count": 42,
   "id": "1fee89a0",
   "metadata": {},
   "outputs": [
    {
     "data": {
      "text/plain": [
       "141"
      ]
     },
     "execution_count": 42,
     "metadata": {},
     "output_type": "execute_result"
    }
   ],
   "source": [
    "clusters.count(2)"
   ]
  },
  {
   "cell_type": "code",
   "execution_count": 43,
   "id": "a6b36101",
   "metadata": {},
   "outputs": [
    {
     "data": {
      "text/plain": [
       "14"
      ]
     },
     "execution_count": 43,
     "metadata": {},
     "output_type": "execute_result"
    }
   ],
   "source": [
    "clusters.count(3)"
   ]
  },
  {
   "cell_type": "code",
   "execution_count": 44,
   "id": "da3ee5bf",
   "metadata": {},
   "outputs": [
    {
     "data": {
      "text/plain": [
       "9"
      ]
     },
     "execution_count": 44,
     "metadata": {},
     "output_type": "execute_result"
    }
   ],
   "source": [
    "clusters.count(4)"
   ]
  },
  {
   "cell_type": "markdown",
   "id": "3609cc59",
   "metadata": {},
   "source": [
    "#### Comparing our clustring by the built-in"
   ]
  },
  {
   "cell_type": "code",
   "execution_count": 45,
   "id": "4682e5ec",
   "metadata": {},
   "outputs": [],
   "source": [
    "sk_clusters = DBSCAN(eps=5.0, min_samples=10, metric=distance.euclidean).fit(df).labels_\n",
    "sk_clusters = [x+1 if x != -1 else x for x in sk_clusters]"
   ]
  },
  {
   "cell_type": "code",
   "execution_count": 46,
   "id": "565b38f8",
   "metadata": {},
   "outputs": [
    {
     "data": {
      "text/plain": [
       "301"
      ]
     },
     "execution_count": 46,
     "metadata": {},
     "output_type": "execute_result"
    }
   ],
   "source": [
    "sk_clusters.count(-1)"
   ]
  },
  {
   "cell_type": "code",
   "execution_count": 48,
   "id": "8cce1545",
   "metadata": {},
   "outputs": [
    {
     "data": {
      "text/plain": [
       "1315"
      ]
     },
     "execution_count": 48,
     "metadata": {},
     "output_type": "execute_result"
    }
   ],
   "source": [
    "sk_clusters.count(1)"
   ]
  },
  {
   "cell_type": "code",
   "execution_count": 49,
   "id": "fd071718",
   "metadata": {},
   "outputs": [
    {
     "data": {
      "text/plain": [
       "141"
      ]
     },
     "execution_count": 49,
     "metadata": {},
     "output_type": "execute_result"
    }
   ],
   "source": [
    "sk_clusters.count(2)"
   ]
  },
  {
   "cell_type": "code",
   "execution_count": 50,
   "id": "e78dbf7f",
   "metadata": {},
   "outputs": [
    {
     "data": {
      "text/plain": [
       "14"
      ]
     },
     "execution_count": 50,
     "metadata": {},
     "output_type": "execute_result"
    }
   ],
   "source": [
    "sk_clusters.count(3)"
   ]
  },
  {
   "cell_type": "code",
   "execution_count": 51,
   "id": "fb78e0be",
   "metadata": {},
   "outputs": [
    {
     "data": {
      "text/plain": [
       "9"
      ]
     },
     "execution_count": 51,
     "metadata": {},
     "output_type": "execute_result"
    }
   ],
   "source": [
    "sk_clusters.count(4)"
   ]
  },
  {
   "cell_type": "code",
   "execution_count": 52,
   "id": "5fbbc94a",
   "metadata": {},
   "outputs": [],
   "source": [
    "ari = adjusted_rand_score(clusters, sk_clusters)"
   ]
  },
  {
   "cell_type": "code",
   "execution_count": 53,
   "id": "1647d7f4",
   "metadata": {},
   "outputs": [
    {
     "data": {
      "text/plain": [
       "1.0"
      ]
     },
     "execution_count": 53,
     "metadata": {},
     "output_type": "execute_result"
    }
   ],
   "source": [
    "ari"
   ]
  },
  {
   "cell_type": "code",
   "execution_count": 131,
   "id": "44ff3d5a",
   "metadata": {},
   "outputs": [
    {
     "name": "stdout",
     "output_type": "stream",
     "text": [
      "Same Results: True\n"
     ]
    }
   ],
   "source": [
    "print(f'Same Results: {checkEqual(clusters, sk_clusters)}')"
   ]
  },
  {
   "cell_type": "code",
   "execution_count": 132,
   "id": "20350dcc",
   "metadata": {},
   "outputs": [],
   "source": [
    "db1 = Basic_DBSCAN(eps=5.0, minPts=10)\n",
    "clusters1 = db1.fit_predict(df)"
   ]
  },
  {
   "cell_type": "code",
   "execution_count": 133,
   "id": "f0fabe89",
   "metadata": {},
   "outputs": [],
   "source": [
    "sk_clusters1 = DBSCAN(eps=1, min_samples=30, metric=distance.euclidean).fit(df).labels_\n",
    "sk_clusters1 = [x+1 if x != -1 else x for x in sk_clusters1]"
   ]
  },
  {
   "cell_type": "code",
   "execution_count": 134,
   "id": "b1e15b48",
   "metadata": {},
   "outputs": [
    {
     "name": "stdout",
     "output_type": "stream",
     "text": [
      "Same Results: False\n"
     ]
    }
   ],
   "source": [
    "print(f'Same Results: {checkEqual(clusters1, sk_clusters1)}')"
   ]
  },
  {
   "cell_type": "markdown",
   "id": "d235eac5",
   "metadata": {},
   "source": [
    "## DBSCAN with PCA with num_components=3"
   ]
  },
  {
   "cell_type": "code",
   "execution_count": 136,
   "id": "54c94a80",
   "metadata": {},
   "outputs": [
    {
     "data": {
      "text/plain": [
       "(1797, 3)"
      ]
     },
     "execution_count": 136,
     "metadata": {},
     "output_type": "execute_result"
    }
   ],
   "source": [
    "compressed_data5.shape"
   ]
  },
  {
   "cell_type": "code",
   "execution_count": 137,
   "id": "7be30305",
   "metadata": {},
   "outputs": [],
   "source": [
    "df_PCA = StandardScaler().fit_transform(compressed_data5)"
   ]
  },
  {
   "cell_type": "code",
   "execution_count": 152,
   "id": "5edc623a",
   "metadata": {},
   "outputs": [
    {
     "data": {
      "image/png": "[encoded data removed]",
      "text/plain": [
       "<Figure size 640x480 with 1 Axes>"
      ]
     },
     "metadata": {},
     "output_type": "display_data"
    }
   ],
   "source": [
    "neighbors = NearestNeighbors(n_neighbors=2)\n",
    "neighbors_fit = neighbors.fit(compressed_data3)\n",
    "distances, indices = neighbors_fit.kneighbors()\n",
    "\n",
    "distances = np.sort(distances, axis=0)\n",
    "distances = distances[:,1]\n",
    "plt.plot(distances)\n",
    "plt.show()"
   ]
  },
  {
   "cell_type": "code",
   "execution_count": 138,
   "id": "1daa18b0",
   "metadata": {},
   "outputs": [],
   "source": [
    "db_PCA = Basic_DBSCAN(eps=14, minPts=20) \n",
    "clusters_PCA = db_PCA.fit_predict(compressed_data5)"
   ]
  },
  {
   "cell_type": "code",
   "execution_count": 139,
   "id": "e17dea2d",
   "metadata": {},
   "outputs": [
    {
     "data": {
      "text/plain": [
       "0"
      ]
     },
     "execution_count": 139,
     "metadata": {},
     "output_type": "execute_result"
    }
   ],
   "source": [
    "clusters_PCA.count(-1)"
   ]
  },
  {
   "cell_type": "code",
   "execution_count": 141,
   "id": "ef7edee7",
   "metadata": {},
   "outputs": [],
   "source": [
    "sk_clusters_PCA = DBSCAN(eps=14, min_samples=20, metric=distance.euclidean).fit(compressed_data5).labels_\n",
    "sk_clusters_PCA = [x+1 if x != -1 else x for x in sk_clusters_PCA]"
   ]
  },
  {
   "cell_type": "code",
   "execution_count": 142,
   "id": "9c3cfcb4",
   "metadata": {},
   "outputs": [
    {
     "data": {
      "text/plain": [
       "0"
      ]
     },
     "execution_count": 142,
     "metadata": {},
     "output_type": "execute_result"
    }
   ],
   "source": [
    "sk_clusters_PCA.count(-1)"
   ]
  },
  {
   "cell_type": "code",
   "execution_count": 150,
   "id": "6af70ffa",
   "metadata": {},
   "outputs": [
    {
     "data": {
      "image/png": "[encoded data removed]",
      "text/plain": [
       "<Figure size 1200x600 with 2 Axes>"
      ]
     },
     "metadata": {},
     "output_type": "display_data"
    }
   ],
   "source": [
    "fig = plt.figure(figsize=(12, 6))\n",
    "ax1 = fig.add_subplot(121, projection='3d')\n",
    "ax1.scatter(compressed_data5[:, 0], compressed_data5[:, 1], compressed_data5[:, 2], c=clusters, cmap='viridis')\n",
    "ax1.set_title('Our DBSCAN')\n",
    "\n",
    "ax2 = fig.add_subplot(122, projection='3d')\n",
    "ax2.scatter(compressed_data5[:, 0], compressed_data5[:, 1], compressed_data5[:, 2], c=sk_clusters, cmap='viridis')\n",
    "ax2.set_title('sklearn.cluster DBSCAN')\n",
    "\n",
    "plt.show()"
   ]
  },
  {
   "cell_type": "markdown",
   "id": "0e517cef",
   "metadata": {},
   "source": [
    "##### Comparsion of DBscan without PCA and with PCA"
   ]
  },
  {
   "cell_type": "code",
   "execution_count": null,
   "id": "46704e44",
   "metadata": {},
   "outputs": [],
   "source": [
    "\"\"\"\n",
    "#Without PCA\n",
    "1-Computational Complexity: The computational complexity increases with the number of dimensions.\n",
    "DBSCAN's performance can degrade in high-dimensional spaces, \n",
    "both in terms of speed and memory usage.\n",
    "\n",
    "\n",
    "2-Noise Sensitivity: In its original form, \n",
    "DBSCAN is sensitive to noise, \n",
    "and high-dimensional data often contains more noise and sparsity, \n",
    "potentially leading to many points being labeled as noise.\n",
    "As the resulted noise is = 301\n",
    "\n",
    "\n",
    "#With PCA\n",
    "1- Improved Performance: Lower dimensions can significantly improve the computational efficiency of DBSCAN,\n",
    "both in terms of speed and memory requirements.\n",
    "\n",
    "2- Noise Reduction: PCA can help in filtering out noise and irrelevant features,\n",
    "as it focuses on the directions with the most variance.\n",
    "As the resulted noise is = 0 which is less than before the PCA\n",
    "\n",
    "\n",
    "\n",
    "\"\"\""
   ]
  }
 ],
 "metadata": {
  "kernelspec": {
   "display_name": "Python 3 (ipykernel)",
   "language": "python",
   "name": "python3"
  },
  "language_info": {
   "codemirror_mode": {
    "name": "ipython",
    "version": 3
   },
   "file_extension": ".py",
   "mimetype": "text/x-python",
   "name": "python",
   "nbconvert_exporter": "python",
   "pygments_lexer": "ipython3",
   "version": "3.11.4"
  }
 },
 "nbformat": 4,
 "nbformat_minor": 5
}
